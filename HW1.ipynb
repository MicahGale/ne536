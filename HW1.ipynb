{
 "cells": [
  {
   "cell_type": "markdown",
   "id": "5ebc2080-9aba-4d4d-899d-621381d99891",
   "metadata": {},
   "source": [
    "Micah Gale\n",
    "\n",
    "19 Sep 25\n",
    "\n",
    "# NE 536: HomeWork 1\n"
   ]
  },
  {
   "cell_type": "code",
   "execution_count": 1,
   "id": "fe520a06-7229-4e5a-99a3-937d188b27d2",
   "metadata": {},
   "outputs": [],
   "source": [
    "import numpy as np\n",
    "import pandas as pd\n",
    "import matplotlib.pyplot as plt"
   ]
  },
  {
   "cell_type": "markdown",
   "id": "9d924c94-7c9a-434a-b2d5-712eaa7ec420",
   "metadata": {},
   "source": [
    "\n",
    "## Problem 1.1 Plasma Parameters\n",
    "\n",
    "Given:\n",
    "\n",
    "* $T_{e^-} = 1 keV$\n",
    "* $n = 5 \\times 10^{18} \\frac{1}{m^3}$\n",
    "* $|\\vec{B}| = 1 T$"
   ]
  },
  {
   "cell_type": "code",
   "execution_count": 2,
   "id": "39cc16d4-b216-4b0b-9761-9653d821a2e9",
   "metadata": {},
   "outputs": [],
   "source": [
    "# store inputs as constants\n",
    "TEMP_E = 1_000 # [eV]\n",
    "DENSITY = 5e18 # [m^-3]\n",
    "FIELD_ST = 1.0 # T"
   ]
  },
  {
   "cell_type": "markdown",
   "id": "5abe08f8-2d73-48e3-8e74-3c2a220d78ff",
   "metadata": {},
   "source": [
    "Calculate:\n",
    "* Debye Length\n",
    "* Plasma frequency\n",
    "* electron collision frequency\n",
    "\n",
    "### Debye Length\n",
    "\n",
    "$\\lambda_d = \\sqrt{\n",
    "\\frac{\\epsilon_0 T_e}{ne^2}}$\n",
    "\n",
    "We have density, $n$, and electron temperature, $T_{e^-}$, so we just need the constants: vacuum permittivity, $\\epsilon_0$, and the elementary charge, $e$.\n",
    "\n",
    "I used:\n",
    "\n",
    "* $\\epsilon_0 = 8.854 \\times 10^{-12}\\frac{F}{m}$ [1]\n",
    "* $e = 1.602\\times 10^{-19} C$ [2]\n",
    "\n",
    "[1] “Vacuum permittivity,” Wikipedia. July 20, 2025. Accessed: Sept. 16, 2025. [Online]. Available: https://en.wikipedia.org/w/index.php?title=Vacuum_permittivity&oldid=1301610312\n",
    "\n",
    "[2] “Elementary charge,” Wikipedia. June 03, 2025. Accessed: Sept. 16, 2025. [Online]. Available: https://en.wikipedia.org/w/index.php?title=Elementary_charge&oldid=1293751741\n",
    "\n"
   ]
  },
  {
   "cell_type": "code",
   "execution_count": 3,
   "id": "bb0ac198-ecd2-42f4-a523-5298f2d79264",
   "metadata": {},
   "outputs": [],
   "source": [
    "EPSILON_0 = 8.854e-12 #[F/m]\n",
    "ELEM_CHARGE = 1.602e-19 #[C]"
   ]
  },
  {
   "cell_type": "code",
   "execution_count": 4,
   "id": "a80d48aa-f9ef-4c86-b65a-3ef34786ba2a",
   "metadata": {},
   "outputs": [
    {
     "name": "stdout",
     "output_type": "stream",
     "text": [
      "Debye Length for plasma at electron temperature 1.0 keV, and a density of 5.0e+18 m^-3 is:\n",
      " 0.105 mm\n"
     ]
    }
   ],
   "source": [
    "temp_e_j = TEMP_E * ELEM_CHARGE # convert to Joules\n",
    "debye_l = np.sqrt((EPSILON_0 * temp_e_j) / (DENSITY * ELEM_CHARGE ** 2))\n",
    "print(f\"Debye Length for plasma at electron temperature {TEMP_E / 1000:.1f} keV, and a density of \" \n",
    "      f\"{DENSITY:.1e} m^-3 is:\\n {debye_l* 1000:.3f} mm\")"
   ]
  },
  {
   "cell_type": "markdown",
   "id": "5c2af308-9571-4dcd-8f80-575456c7b9dd",
   "metadata": {},
   "source": [
    "### Plasma Frequency\n",
    "\n",
    "The plasma frequency, $\\omega_p$ is given by:\n",
    "\n",
    "$\\omega_p = \\sqrt{\\frac{ne^2}{m_e\\epsilon_0}}$\n",
    "\n",
    "We just need the mass of an electron, $m_e$ now:\n",
    "\n",
    "* $m_e = 9.10938 \\times 10^{-31} kg$  [3]\n",
    "\n",
    "[3] “Electron mass,” Wikipedia. May 26, 2025. Accessed: Sept. 16, 2025. [Online]. Available: https://en.wikipedia.org/w/index.php?title=Electron_mass&oldid=1292442002\n"
   ]
  },
  {
   "cell_type": "code",
   "execution_count": 5,
   "id": "f25876b9-4715-4419-a4f2-2e0ce3018f9a",
   "metadata": {},
   "outputs": [
    {
     "name": "stdout",
     "output_type": "stream",
     "text": [
      "Frequency for plasma at electron temperater at a density of 5.0e+18 m^-3 is: 20.075 GHz\n"
     ]
    }
   ],
   "source": [
    "MASS_E = 9.10938e-31 #[kg]\n",
    "\n",
    "plasma_ang_freq = np.sqrt((DENSITY * ELEM_CHARGE**2)/ (MASS_E * EPSILON_0))\n",
    "plasma_freq = plasma_ang_freq / (2.0 * np.pi)\n",
    "print(f\"Frequency for plasma at electron temperater at a density of \" \n",
    "      f\"{DENSITY:.1e} m^-3 is: {plasma_freq/1e9:.3f} GHz\")"
   ]
  },
  {
   "cell_type": "markdown",
   "id": "4f7e1f4c-401f-46b5-8bd5-7e0330b7bf03",
   "metadata": {},
   "source": [
    "### Electron Collision Frequency\n",
    "\n",
    "\n",
    "The electron collision frequency is the inverse of the collison time (Freidberg).\n",
    "\n",
    "$\\nu_c = \\frac{1}{\\tau_c}  = \\frac{n\\lambda}{T_e^{3/2} 3.44\\times 10^6}$. \n",
    "\n",
    "This requires $\\lambda$, the Coloumb logarithm which is defined for electron-electron collison [7]:\n",
    "\n",
    "$\\lambda_{ee} = 23.5 - \\ln\\left(\\frac{n^{1/2}}{T^{5/4}}\\right) - \\left(10^{-5} + \\frac{(\\ln(T_e) -2)^2}{16}\\right)^{1/2}$\n",
    "\n",
    "\n",
    "[7] A. Berensyak, “2023 NRL Plasma Formulary,” Naval Research Laboratory, Washington, D.C., 2023. [Online]. Available: https://www.nrl.navy.mil/News-Media/Publications/nrl-plasma-formulary/\n"
   ]
  },
  {
   "cell_type": "code",
   "execution_count": 6,
   "id": "24effc43-d081-4c69-ae3c-dd95f2c31b48",
   "metadata": {},
   "outputs": [],
   "source": [
    "col_log = 23.5 - np.log(np.sqrt(DENSITY)/ np.power(TEMP_E, 5/4))\n",
    "col_log -= np.sqrt(1e-5 + (np.log(TEMP_E) -2)**2/16)\n",
    "\n",
    "colision_freq = (DENSITY * col_log) / (np.power(TEMP_E, 3/2)*3.44e6)"
   ]
  },
  {
   "cell_type": "code",
   "execution_count": 7,
   "id": "38e4cd0f-0fb3-4f91-9110-a7ea4d5237af",
   "metadata": {},
   "outputs": [
    {
     "name": "stdout",
     "output_type": "stream",
     "text": [
      "The Electron Collision frequency for a plasma at a Temperature of: 1.00 keV and a density of: 5.0e+18 m^-3 is 431.13 MHz\n"
     ]
    }
   ],
   "source": [
    "print(f\"The Electron Collision frequency for a plasma at a Temperature of: {TEMP_E/1e3:.2f} keV and \"\n",
    "      f\"a density of: {DENSITY:.1e} m^-3 is {colision_freq/1e6:.2f} MHz\")"
   ]
  },
  {
   "cell_type": "markdown",
   "id": "4cce3593-c67b-48e2-a3fb-fab2f639cf3e",
   "metadata": {},
   "source": [
    "## Problem 1.2 Thermal Velocities\n",
    "\n",
    "Calculate thermal velocity (mean speed) for electron and hydrogen ion (proton) at:\n",
    "* $T = 1keV$\n",
    "* $T = 10 keV$\n",
    "\n",
    "\n",
    "Will need the mass of a proton:\n",
    "\n",
    "* $m_p = 1.6726\\times 10^{-27} kg$ [4]\n",
    "\n",
    "[4] “Proton - Wikipedia.” Accessed: Sept. 16, 2025. [Online]. Available: https://en.wikipedia.org/wiki/Proton\n",
    "\n",
    "### Will any be realtivistic?"
   ]
  },
  {
   "cell_type": "code",
   "execution_count": 8,
   "id": "798285f7-d121-4b69-b9db-be5d515b28ce",
   "metadata": {},
   "outputs": [],
   "source": [
    "TEMPERATURES = [1e3, 10e3] # [eV]\n",
    "MASS_P = 1.6726e-27 # [kg]"
   ]
  },
  {
   "cell_type": "code",
   "execution_count": 9,
   "id": "e0f612f3-eb14-4821-8171-3946e754196d",
   "metadata": {},
   "outputs": [],
   "source": [
    "# set up the dataframe\n",
    "buffer = []\n",
    "for temp in TEMPERATURES:\n",
    "    for part in {\"electron\", \"hydrogen\"}:\n",
    "        buffer.append({\"particle\": part, \"temperature [eV]\": temp})\n",
    "df = pd.DataFrame(buffer)\n",
    "df[\"mass [kg]\"] = df[\"particle\"].apply(lambda p: MASS_P if p == \"hydrogen\" else MASS_E)"
   ]
  },
  {
   "cell_type": "markdown",
   "id": "ea4fce6c-2aae-4838-9744-1417005602b5",
   "metadata": {},
   "source": [
    "The Maxwell-Boltzmann equation can give us:\n",
    "\n",
    "* $<v> = \\frac{2}{\\sqrt{pi}} v_p$\n",
    "* $v_p = \\sqrt{\\frac{2k_BT}{m}}$\n",
    "\n",
    "Where:\n",
    "\n",
    "* $<v>$ is the average speed\n",
    "* $v_p$ is the most probable speed\n",
    "* $k_B$ is the Boltzmann constant [5], which is:\n",
    "\n",
    "\n",
    "* $k_B = 1.3806\\times 10^{-23}\\frac{J}{K}$ [6]\n",
    "\n",
    "[5] “Maxwell–Boltzmann distribution,” Wikipedia. Aug. 19, 2025. Accessed: Sept. 16, 2025. [Online]. Available: https://en.wikipedia.org/w/index.php?title=Maxwell%E2%80%93Boltzmann_distribution&oldid=1306808676#Typical_speeds\n",
    "\n",
    "[6] “Boltzmann constant,” Wikipedia. July 11, 2025. Accessed: Sept. 16, 2025. [Online]. Available: https://en.wikipedia.org/w/index.php?title=Boltzmann_constant&oldid=1300011910#Role_in_the_equipartition_of_energy\n",
    "\n"
   ]
  },
  {
   "cell_type": "code",
   "execution_count": 10,
   "id": "00bbcc63-1886-427d-83ab-7bb9f66f0c29",
   "metadata": {},
   "outputs": [],
   "source": [
    "BOLTZMANN = 1.3806e-23 #[j/k]\n",
    "def get_mean_speed(row):\n",
    "    temp, mass = row[[\"temperature [eV]\", \"mass [kg]\"]]\n",
    "    v_p = np.sqrt((2*BOLTZMANN * temp)/mass)\n",
    "    return 2/np.sqrt(np.pi)*v_p\n",
    "\n",
    "df[\"mean velocity [m/s]\"] = df.apply(get_mean_speed, axis=1)"
   ]
  },
  {
   "cell_type": "markdown",
   "id": "95fff2ef-fa90-4869-87ef-2c6c175f268d",
   "metadata": {},
   "source": [
    "### Is it relativistic?\n",
    "For this we are saying $v > 0.1c$ is relativistic,\n",
    "with $c$ being the speed of light:\n",
    "\n",
    "* $c= 299 792 458 \\frac{m}{s}$ [7]\n",
    "\n",
    "[7] “Speed of light,” Wikipedia. Sept. 15, 2025. Accessed: Sept. 16, 2025. [Online]. Available: https://en.wikipedia.org/w/index.php?title=Speed_of_light&oldid=1311507394\n"
   ]
  },
  {
   "cell_type": "code",
   "execution_count": 11,
   "id": "2d43e281-f1a8-4842-a21d-0ccfa50cdc5c",
   "metadata": {},
   "outputs": [
    {
     "data": {
      "text/html": [
       "<div>\n",
       "<style scoped>\n",
       "    .dataframe tbody tr th:only-of-type {\n",
       "        vertical-align: middle;\n",
       "    }\n",
       "\n",
       "    .dataframe tbody tr th {\n",
       "        vertical-align: top;\n",
       "    }\n",
       "\n",
       "    .dataframe thead th {\n",
       "        text-align: right;\n",
       "    }\n",
       "</style>\n",
       "<table border=\"1\" class=\"dataframe\">\n",
       "  <thead>\n",
       "    <tr style=\"text-align: right;\">\n",
       "      <th></th>\n",
       "      <th>particle</th>\n",
       "      <th>temperature [eV]</th>\n",
       "      <th>mass [kg]</th>\n",
       "      <th>mean velocity [m/s]</th>\n",
       "      <th>frac c</th>\n",
       "      <th>relativistic</th>\n",
       "    </tr>\n",
       "  </thead>\n",
       "  <tbody>\n",
       "    <tr>\n",
       "      <th>0</th>\n",
       "      <td>hydrogen</td>\n",
       "      <td>1000.0</td>\n",
       "      <td>1.672600e-27</td>\n",
       "      <td>4584.668569</td>\n",
       "      <td>0.000015</td>\n",
       "      <td>False</td>\n",
       "    </tr>\n",
       "    <tr>\n",
       "      <th>1</th>\n",
       "      <td>electron</td>\n",
       "      <td>1000.0</td>\n",
       "      <td>9.109380e-31</td>\n",
       "      <td>196453.414744</td>\n",
       "      <td>0.000655</td>\n",
       "      <td>False</td>\n",
       "    </tr>\n",
       "    <tr>\n",
       "      <th>2</th>\n",
       "      <td>hydrogen</td>\n",
       "      <td>10000.0</td>\n",
       "      <td>1.672600e-27</td>\n",
       "      <td>14497.994994</td>\n",
       "      <td>0.000048</td>\n",
       "      <td>False</td>\n",
       "    </tr>\n",
       "    <tr>\n",
       "      <th>3</th>\n",
       "      <td>electron</td>\n",
       "      <td>10000.0</td>\n",
       "      <td>9.109380e-31</td>\n",
       "      <td>621240.244707</td>\n",
       "      <td>0.002072</td>\n",
       "      <td>False</td>\n",
       "    </tr>\n",
       "  </tbody>\n",
       "</table>\n",
       "</div>"
      ],
      "text/plain": [
       "   particle  temperature [eV]     mass [kg]  mean velocity [m/s]    frac c  \\\n",
       "0  hydrogen            1000.0  1.672600e-27          4584.668569  0.000015   \n",
       "1  electron            1000.0  9.109380e-31        196453.414744  0.000655   \n",
       "2  hydrogen           10000.0  1.672600e-27         14497.994994  0.000048   \n",
       "3  electron           10000.0  9.109380e-31        621240.244707  0.002072   \n",
       "\n",
       "   relativistic  \n",
       "0         False  \n",
       "1         False  \n",
       "2         False  \n",
       "3         False  "
      ]
     },
     "execution_count": 11,
     "metadata": {},
     "output_type": "execute_result"
    }
   ],
   "source": [
    "SPEED_LIGHT = 299_792_458 #[m/s]\n",
    "\n",
    "df[\"frac c\"] = df[\"mean velocity [m/s]\"] / SPEED_LIGHT\n",
    "df[\"relativistic\"] = df[\"frac c\"] > 0.1\n",
    "df"
   ]
  },
  {
   "cell_type": "markdown",
   "id": "92eec45c-bcd9-44d2-9d3e-b9d7110a0c44",
   "metadata": {},
   "source": [
    "Therefore, no, none of these particles at these energies are relativistic. The closest is the electron at 10 keV at 0.2% $c$."
   ]
  },
  {
   "cell_type": "markdown",
   "id": "fb882505-a7dc-4426-88d0-0a4383172b0f",
   "metadata": {},
   "source": [
    "# Problem 1.3\n",
    "\n",
    "Plot the new END/B-VIII.1 D(T,n) cross sections!\n",
    "\n",
    "![the plot](Updated_xs_plot.png)\n",
    "\n",
    "The only update was a slight cross section decrease at about 8 MeV, but also includes almost 1 MeV of more data."
   ]
  },
  {
   "cell_type": "markdown",
   "id": "4d0f1652-960f-419e-b950-9cbfb5f6ec04",
   "metadata": {},
   "source": [
    "# Problem 1.4 Orbit Following\n",
    "\n",
    "Drift in a toroidal magnetic field is ultimately caused by a magnetic force, and is proportional to said force.\n",
    "This has to follow:\n",
    "\n",
    "$$ \\vec{F} = q\\vec{v} \\times \\vec{B}$$\n",
    "\n",
    "Obviously for a particle $q$ cannot change so only $\\vec{B}$ will change. \n",
    "For the magnetic field strength is proportional the applied force, $\\vec{F}$, and therefore the drift.\n",
    "\n",
    "For the particle energy, of course, $E=1/2mv^2$, and so velocity is proportional to: $\\sqrt{E}$. \n",
    "Therefore the drift in the torodial field is proportional to $\\sqrt{E}$."
   ]
  }
 ],
 "metadata": {
  "kernelspec": {
   "display_name": "Python 3 (ipykernel)",
   "language": "python",
   "name": "python3"
  },
  "language_info": {
   "codemirror_mode": {
    "name": "ipython",
    "version": 3
   },
   "file_extension": ".py",
   "mimetype": "text/x-python",
   "name": "python",
   "nbconvert_exporter": "python",
   "pygments_lexer": "ipython3",
   "version": "3.13.7"
  }
 },
 "nbformat": 4,
 "nbformat_minor": 5
}
